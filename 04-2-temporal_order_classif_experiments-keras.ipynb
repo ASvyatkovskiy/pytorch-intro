{
 "cells": [
  {
   "cell_type": "code",
   "execution_count": null,
   "metadata": {},
   "outputs": [],
   "source": [
    "from sequential_tasks import TemporalOrderExp6aSequence\n",
    "from tensorflow.python.keras.models import Sequential\n",
    "from tensorflow.python.keras.layers import SimpleRNN, Dense, LSTM\n",
    "from tensorflow.python.keras.optimizers import RMSprop\n"
   ]
  },
  {
   "cell_type": "code",
   "execution_count": null,
   "metadata": {},
   "outputs": [],
   "source": [
    "def exp6a_experiment(settings):\n",
    "    train_data_gen = TemporalOrderExp6aSequence.data_generator(\n",
    "        settings['difficulty'],\n",
    "        settings['batch_size'])\n",
    "\n",
    "    model = Sequential([\n",
    "        LSTM(\n",
    "            units=settings['h_units'],\n",
    "            input_shape=(train_data_gen.length_range[1],\n",
    "                         train_data_gen.n_symbols)),\n",
    "        Dense(units=train_data_gen.n_classes, activation='softmax')\n",
    "    ])\n",
    "\n",
    "    optimizer = RMSprop(lr=0.002)\n",
    "    model.compile(optimizer=optimizer, loss='categorical_crossentropy', metrics=['accuracy'])\n",
    "    model.fit_generator(\n",
    "        generator=train_data_gen,\n",
    "        epochs=settings['max_epochs'],\n",
    "        verbose=2)\n",
    "\n",
    "    # testing\n",
    "    test_data_gen = TemporalOrderExp6aSequence.data_generator(\n",
    "        settings['difficulty'],\n",
    "        settings['batch_size'])\n",
    "\n",
    "    eval_metrics = model.evaluate_generator(test_data_gen)\n",
    "    test_accuracy = eval_metrics[1]\n",
    "    print(len(train_data_gen)*settings['batch_size'])\n",
    "    return test_accuracy\n"
   ]
  },
  {
   "cell_type": "code",
   "execution_count": null,
   "metadata": {},
   "outputs": [],
   "source": [
    "# experiments settings\n",
    "params = {\n",
    "    \"difficulty\": TemporalOrderExp6aSequence.DifficultyLevel.EASY,\n",
    "    \"batch_size\": 32,\n",
    "    \"h_units\": 4,\n",
    "    \"max_epochs\": 10\n",
    "}\n",
    "\n",
    "acc = exp6a_experiment(params)\n",
    "print('acc = {:.2f}%.'.format(acc))\n"
   ]
  },
  {
   "cell_type": "code",
   "execution_count": null,
   "metadata": {},
   "outputs": [],
   "source": []
  },
  {
   "cell_type": "code",
   "execution_count": null,
   "metadata": {},
   "outputs": [],
   "source": []
  }
 ],
 "metadata": {
  "kernelspec": {
   "display_name": "Codas ML",
   "language": "python",
   "name": "codasml"
  },
  "language_info": {
   "codemirror_mode": {
    "name": "ipython",
    "version": 3
   },
   "file_extension": ".py",
   "mimetype": "text/x-python",
   "name": "python",
   "nbconvert_exporter": "python",
   "pygments_lexer": "ipython3",
   "version": "3.6.5"
  }
 },
 "nbformat": 4,
 "nbformat_minor": 1
}
